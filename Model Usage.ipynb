{
 "cells": [
  {
   "cell_type": "code",
   "execution_count": 7,
   "id": "f6957f70",
   "metadata": {},
   "outputs": [
    {
     "data": {
      "text/plain": [
       "array([19.477])"
      ]
     },
     "execution_count": 7,
     "metadata": {},
     "output_type": "execute_result"
    }
   ],
   "source": [
    "from joblib import dump, load\n",
    "import numpy as np\n",
    "model = load('Indus.joblib')\n",
    "features = np.array([[-0.4286928 , -0.48908114, -0.4050388 , -0.87252625, -0.32754745,\n",
    "       -0.16075519,  0.75494174, -0.63432391, -0.54467747, -0.26577833,\n",
    "        1.13740278,  0.00915639, -0.05646069]])\n",
    "model.predict(features)"
   ]
  },
  {
   "cell_type": "code",
   "execution_count": null,
   "id": "424a159f",
   "metadata": {},
   "outputs": [],
   "source": []
  }
 ],
 "metadata": {
  "kernelspec": {
   "display_name": "Python 3 (ipykernel)",
   "language": "python",
   "name": "python3"
  },
  "language_info": {
   "codemirror_mode": {
    "name": "ipython",
    "version": 3
   },
   "file_extension": ".py",
   "mimetype": "text/x-python",
   "name": "python",
   "nbconvert_exporter": "python",
   "pygments_lexer": "ipython3",
   "version": "3.11.4"
  }
 },
 "nbformat": 4,
 "nbformat_minor": 5
}
